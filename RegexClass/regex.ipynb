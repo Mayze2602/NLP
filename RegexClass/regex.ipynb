{
 "cells": [
  {
   "cell_type": "code",
   "execution_count": 143,
   "metadata": {},
   "outputs": [
    {
     "data": {
      "text/plain": [
       "'\\nRegexes:\\nRegex CURP supes estricto\\n[A-Z]{4}(\\\\d\\\\d)(0[1-9]|1[0-2])(0[1-9]|[1-2]\\\\d|3[0-1])(H|M)[A-Z]{6}\\\\d\\n\\nRegex CURP estricto\\n[A-Z]+[0-9]{2}[0-1][0-9][0-3][0-9][A-Z]+[0-9]\\n\\nRegex CURP\\n[A-Z0-9]{18}\\n[A-Z]+[0-9]+[A-Z]+[0-9]\\n\\nRegex telefono\\n\\\\+5255\\\\d{8}\\n\\nRegex correos\\n[a-z0-9]+_?[a-z0-9]+@(gmail|dominio).com\\n'"
      ]
     },
     "execution_count": 143,
     "metadata": {},
     "output_type": "execute_result"
    }
   ],
   "source": [
    "\n",
    "'''\n",
    "Regexes:\n",
    "Regex CURP supes estricto\n",
    "[A-Z]{4}(\\d\\d)(0[1-9]|1[0-2])(0[1-9]|[1-2]\\d|3[0-1])(H|M)[A-Z]{6}\\d\n",
    "\n",
    "Regex CURP estricto\n",
    "[A-Z]+[0-9]{2}[0-1][0-9][0-3][0-9][A-Z]+[0-9]\n",
    "\n",
    "Regex CURP\n",
    "[A-Z0-9]{18}\n",
    "[A-Z]+[0-9]+[A-Z]+[0-9]\n",
    "\n",
    "Regex telefono\n",
    "\\+5255\\d{8}\n",
    "\n",
    "Regex correos\n",
    "[a-z0-9]+_?[a-z0-9]+@(gmail|dominio).com\n",
    "'''"
   ]
  },
  {
   "cell_type": "code",
   "execution_count": 144,
   "metadata": {},
   "outputs": [],
   "source": [
    "texto = '''\n",
    "Lorem ipsum dolor sit amet, consectetur adipiscing elit. Duis molestie orci ac \n",
    "nulla luctus sagittis. In mattis mattis posuere. Nunc felis nisl, faucibus ut nunc \n",
    "non, maximus porta sem. Nulla hendrerit tortor nec pretium dignissim. \n",
    "In non dictum augue, id tincidunt dolor. Proin blandit justo eu augue ornare, sit \n",
    "amet tempus tellus interdum. Quisque fermentum nulla ut fringilla lacinia. Quisque\n",
    " lobortis bibendum ullamcorper. Sed volutpat id dui nec elementum. Nullam cursus tellus \n",
    " massa, at tempus magna pretium id. Nullam vitae efficitur lorem. Morbi ultricies diam metus,\n",
    "   eget ultricies est dictum sit amet.\n",
    "+525511002299\n",
    "Maecenas tempus finibus accumsan. In vel diam sem. Vivamus lobortis neque tortor, \n",
    "non eleifend est dictum ac. Sed semper, neque at ultricies placerat, dolor mauris pretium \n",
    "felis, vel vulputate nisl lacus et erat. Nullam nulla turpis, lobortis in libero\n",
    "vel, semper venenatis leo. Donec sed lorem quis nunc aliquam accumsan. Cras nec \n",
    "consectetur nulla, a porttitor mauris. Suspendisse id est id risus gravida pharetra.\n",
    "Pellentesque blandit tellus in tempor dictum. Nunc egestas eu nulla nec finibus.\n",
    "+525566774433\n",
    "Mauris malesuada est a ipsum finibus, at vehicula est vulputate. Quisque tincidunt\n",
    "consectetur felis. Etiam auctor urna urna, non ornare augue venenatis et. \n",
    "Vestibulum porta nisl non egestas vulputate. \n",
    "11/12/2011\n",
    "Curabitur gravida, urna sed viverra\n",
    "finibus, lectus ex tincidunt erat, vitae eleifend enim orci vel augue. \n",
    "Curabitur eu egestas turpis, vel pharetra turpis. Aenean condimentum tincidunt \n",
    "02/02/1995\n",
    "gravida. Sed sit amet dui nec erat euismod tristique. Morbi tempor, eros at blandit \n",
    "scelerisque, nulla enim ornare metus, non ornare mi ex ut quam. Donec cursus sapien sit\n",
    "amet nunc condimentum, quis sollicitudin magna viverra. Curabitur non nisl eros. Aliquam\n",
    "et sagittis sem. Etiam rhoncus malesuada metus, at sollicitudin elit vestibulum in.\n",
    "Vivamus vel dignissim tellus, quis venenatis magna.\n",
    "'''"
   ]
  },
  {
   "cell_type": "code",
   "execution_count": 145,
   "metadata": {},
   "outputs": [],
   "source": [
    "import re\n",
    "import pandas as pd"
   ]
  },
  {
   "cell_type": "code",
   "execution_count": 146,
   "metadata": {},
   "outputs": [
    {
     "data": {
      "text/plain": [
       "['+525511002299', '+525566774433']"
      ]
     },
     "execution_count": 146,
     "metadata": {},
     "output_type": "execute_result"
    }
   ],
   "source": [
    "numeros = re.findall(r'\\+5255\\d{8}', texto)\n",
    "numeros"
   ]
  },
  {
   "cell_type": "code",
   "execution_count": 147,
   "metadata": {},
   "outputs": [
    {
     "data": {
      "text/plain": [
       "[('11', '12', '2011'), ('02', '02', '1995')]"
      ]
     },
     "execution_count": 147,
     "metadata": {},
     "output_type": "execute_result"
    }
   ],
   "source": [
    "fechas = re.findall(r'(\\d{2})/(\\d{2})/(\\d{4})', texto)\n",
    "fechas"
   ]
  },
  {
   "cell_type": "code",
   "execution_count": 148,
   "metadata": {},
   "outputs": [
    {
     "data": {
      "text/html": [
       "<div>\n",
       "<style scoped>\n",
       "    .dataframe tbody tr th:only-of-type {\n",
       "        vertical-align: middle;\n",
       "    }\n",
       "\n",
       "    .dataframe tbody tr th {\n",
       "        vertical-align: top;\n",
       "    }\n",
       "\n",
       "    .dataframe thead th {\n",
       "        text-align: right;\n",
       "    }\n",
       "</style>\n",
       "<table border=\"1\" class=\"dataframe\">\n",
       "  <thead>\n",
       "    <tr style=\"text-align: right;\">\n",
       "      <th></th>\n",
       "      <th>id</th>\n",
       "      <th>texto</th>\n",
       "      <th>numero</th>\n",
       "    </tr>\n",
       "  </thead>\n",
       "  <tbody>\n",
       "    <tr>\n",
       "      <th>0</th>\n",
       "      <td>AAA123</td>\n",
       "      <td>+525544773388 Hola, mi numero es +525511223344...</td>\n",
       "      <td>2</td>\n",
       "    </tr>\n",
       "    <tr>\n",
       "      <th>1</th>\n",
       "      <td>QWE321</td>\n",
       "      <td>Hablale al +525500998877 y despues al +5255112...</td>\n",
       "      <td>3</td>\n",
       "    </tr>\n",
       "  </tbody>\n",
       "</table>\n",
       "</div>"
      ],
      "text/plain": [
       "       id                                              texto  numero\n",
       "0  AAA123  +525544773388 Hola, mi numero es +525511223344...       2\n",
       "1  QWE321  Hablale al +525500998877 y despues al +5255112...       3"
      ]
     },
     "execution_count": 148,
     "metadata": {},
     "output_type": "execute_result"
    }
   ],
   "source": [
    "datos = {\n",
    "    'id':['AAA123','QWE321'],\n",
    "    'texto': ['+525544773388 Hola, mi numero es +525511223344, banana +525544773388', 'Hablale al +525500998877 y despues al +525511223344'],\n",
    "    'numero': [2,3]\n",
    "}\n",
    "\n",
    "df = pd.DataFrame(datos)\n",
    "df"
   ]
  },
  {
   "cell_type": "code",
   "execution_count": 149,
   "metadata": {},
   "outputs": [],
   "source": [
    "def fraseCuadrados(celda):\n",
    "    return f\"El cuadrado de {celda} es {celda**2}\""
   ]
  },
  {
   "cell_type": "code",
   "execution_count": 150,
   "metadata": {},
   "outputs": [
    {
     "data": {
      "text/plain": [
       "'El cuadrado de 3 es 9'"
      ]
     },
     "execution_count": 150,
     "metadata": {},
     "output_type": "execute_result"
    }
   ],
   "source": [
    "fraseCuadrados(3)"
   ]
  },
  {
   "cell_type": "code",
   "execution_count": 151,
   "metadata": {},
   "outputs": [],
   "source": [
    "from tqdm import tqdm\n",
    "\n",
    "tqdm.pandas()"
   ]
  },
  {
   "cell_type": "code",
   "execution_count": 152,
   "metadata": {},
   "outputs": [
    {
     "name": "stderr",
     "output_type": "stream",
     "text": [
      "100%|██████████| 2/2 [00:00<00:00, 1998.24it/s]\n"
     ]
    }
   ],
   "source": [
    "df['Columna nueva'] = df['numero'].progress_apply(fraseCuadrados)"
   ]
  },
  {
   "cell_type": "code",
   "execution_count": 153,
   "metadata": {},
   "outputs": [
    {
     "data": {
      "text/html": [
       "<div>\n",
       "<style scoped>\n",
       "    .dataframe tbody tr th:only-of-type {\n",
       "        vertical-align: middle;\n",
       "    }\n",
       "\n",
       "    .dataframe tbody tr th {\n",
       "        vertical-align: top;\n",
       "    }\n",
       "\n",
       "    .dataframe thead th {\n",
       "        text-align: right;\n",
       "    }\n",
       "</style>\n",
       "<table border=\"1\" class=\"dataframe\">\n",
       "  <thead>\n",
       "    <tr style=\"text-align: right;\">\n",
       "      <th></th>\n",
       "      <th>id</th>\n",
       "      <th>texto</th>\n",
       "      <th>numero</th>\n",
       "      <th>Columna nueva</th>\n",
       "    </tr>\n",
       "  </thead>\n",
       "  <tbody>\n",
       "    <tr>\n",
       "      <th>0</th>\n",
       "      <td>AAA123</td>\n",
       "      <td>+525544773388 Hola, mi numero es +525511223344...</td>\n",
       "      <td>2</td>\n",
       "      <td>El cuadrado de 2 es 4</td>\n",
       "    </tr>\n",
       "    <tr>\n",
       "      <th>1</th>\n",
       "      <td>QWE321</td>\n",
       "      <td>Hablale al +525500998877 y despues al +5255112...</td>\n",
       "      <td>3</td>\n",
       "      <td>El cuadrado de 3 es 9</td>\n",
       "    </tr>\n",
       "  </tbody>\n",
       "</table>\n",
       "</div>"
      ],
      "text/plain": [
       "       id                                              texto  numero  \\\n",
       "0  AAA123  +525544773388 Hola, mi numero es +525511223344...       2   \n",
       "1  QWE321  Hablale al +525500998877 y despues al +5255112...       3   \n",
       "\n",
       "           Columna nueva  \n",
       "0  El cuadrado de 2 es 4  \n",
       "1  El cuadrado de 3 es 9  "
      ]
     },
     "execution_count": 153,
     "metadata": {},
     "output_type": "execute_result"
    }
   ],
   "source": [
    "df"
   ]
  },
  {
   "cell_type": "code",
   "execution_count": 154,
   "metadata": {},
   "outputs": [
    {
     "name": "stderr",
     "output_type": "stream",
     "text": [
      "100%|██████████| 2/2 [00:00<00:00, 1993.49it/s]\n"
     ]
    }
   ],
   "source": [
    "#Crear una columna neuva y dentro de esas celdas, en forma de lista deben poner\n",
    "#los numeros de celular encontrados\n",
    "def numerosEncontrados(celda):\n",
    "    return list(set(re.findall(r'\\+5255\\d{8}', celda)))\n",
    "\n",
    "df['numeros encontrados'] = df['texto'].progress_apply(numerosEncontrados)\n",
    "\n"
   ]
  },
  {
   "cell_type": "code",
   "execution_count": 155,
   "metadata": {},
   "outputs": [
    {
     "data": {
      "text/html": [
       "<div>\n",
       "<style scoped>\n",
       "    .dataframe tbody tr th:only-of-type {\n",
       "        vertical-align: middle;\n",
       "    }\n",
       "\n",
       "    .dataframe tbody tr th {\n",
       "        vertical-align: top;\n",
       "    }\n",
       "\n",
       "    .dataframe thead th {\n",
       "        text-align: right;\n",
       "    }\n",
       "</style>\n",
       "<table border=\"1\" class=\"dataframe\">\n",
       "  <thead>\n",
       "    <tr style=\"text-align: right;\">\n",
       "      <th></th>\n",
       "      <th>id</th>\n",
       "      <th>texto</th>\n",
       "      <th>numero</th>\n",
       "      <th>Columna nueva</th>\n",
       "      <th>numeros encontrados</th>\n",
       "    </tr>\n",
       "  </thead>\n",
       "  <tbody>\n",
       "    <tr>\n",
       "      <th>0</th>\n",
       "      <td>AAA123</td>\n",
       "      <td>+525544773388 Hola, mi numero es +525511223344...</td>\n",
       "      <td>2</td>\n",
       "      <td>El cuadrado de 2 es 4</td>\n",
       "      <td>[+525511223344, +525544773388]</td>\n",
       "    </tr>\n",
       "    <tr>\n",
       "      <th>1</th>\n",
       "      <td>QWE321</td>\n",
       "      <td>Hablale al +525500998877 y despues al +5255112...</td>\n",
       "      <td>3</td>\n",
       "      <td>El cuadrado de 3 es 9</td>\n",
       "      <td>[+525511223344, +525500998877]</td>\n",
       "    </tr>\n",
       "  </tbody>\n",
       "</table>\n",
       "</div>"
      ],
      "text/plain": [
       "       id                                              texto  numero  \\\n",
       "0  AAA123  +525544773388 Hola, mi numero es +525511223344...       2   \n",
       "1  QWE321  Hablale al +525500998877 y despues al +5255112...       3   \n",
       "\n",
       "           Columna nueva             numeros encontrados  \n",
       "0  El cuadrado de 2 es 4  [+525511223344, +525544773388]  \n",
       "1  El cuadrado de 3 es 9  [+525511223344, +525500998877]  "
      ]
     },
     "execution_count": 155,
     "metadata": {},
     "output_type": "execute_result"
    }
   ],
   "source": [
    "df"
   ]
  },
  {
   "cell_type": "code",
   "execution_count": null,
   "metadata": {},
   "outputs": [],
   "source": []
  }
 ],
 "metadata": {
  "kernelspec": {
   "display_name": "Python 3",
   "language": "python",
   "name": "python3"
  },
  "language_info": {
   "codemirror_mode": {
    "name": "ipython",
    "version": 3
   },
   "file_extension": ".py",
   "mimetype": "text/x-python",
   "name": "python",
   "nbconvert_exporter": "python",
   "pygments_lexer": "ipython3",
   "version": "3.10.11"
  }
 },
 "nbformat": 4,
 "nbformat_minor": 2
}
